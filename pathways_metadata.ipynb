{
 "cells": [
  {
   "cell_type": "code",
   "execution_count": 1,
   "id": "cf52086d-5c99-4ed7-8410-2cfb88785fea",
   "metadata": {},
   "outputs": [],
   "source": [
    "import pandas as pd\n",
    "import glob"
   ]
  },
  {
   "cell_type": "code",
   "execution_count": 16,
   "id": "007c921f-f7de-4809-a094-e1cef2d0b643",
   "metadata": {},
   "outputs": [],
   "source": [
    "pathways = []\n",
    "\n",
    "for name in glob.glob(\"F:\\\\pathways\\\\*\\\\*\\\\*\\\\*\", recursive = True):\n",
    "        pathways.append(name.split(\"\\\\\"))"
   ]
  },
  {
   "cell_type": "code",
   "execution_count": 17,
   "id": "592999cd-ad7b-4a3d-aa5b-92e6e8f6f545",
   "metadata": {},
   "outputs": [
    {
     "data": {
      "text/plain": [
       "['F:', 'pathways', '0006NR23203', 'I', '0_0.237', '0.003_Roadway.jpg']"
      ]
     },
     "execution_count": 17,
     "metadata": {},
     "output_type": "execute_result"
    }
   ],
   "source": [
    "pathways[0]"
   ]
  },
  {
   "cell_type": "code",
   "execution_count": 18,
   "id": "08b5f69b-e71d-459b-ae51-0e16838d62da",
   "metadata": {},
   "outputs": [],
   "source": [
    "pathways_df = pd.DataFrame(pathways, columns = [\"drive\", \"source\", \"route\", \"type\", \"mile\", \"image\"])"
   ]
  },
  {
   "cell_type": "code",
   "execution_count": 21,
   "id": "133aa237-3f3c-453d-88b8-f4d8b72b3e9d",
   "metadata": {},
   "outputs": [],
   "source": [
    "pathways_df.drop(\"drive\", axis = 1, inplace = True)"
   ]
  },
  {
   "cell_type": "code",
   "execution_count": 44,
   "id": "d1338da9-659f-4e09-9464-0c2e8373187e",
   "metadata": {},
   "outputs": [
    {
     "data": {
      "text/plain": [
       "(1945840, 5)"
      ]
     },
     "execution_count": 44,
     "metadata": {},
     "output_type": "execute_result"
    }
   ],
   "source": [
    "pathways_df.shape"
   ]
  },
  {
   "cell_type": "code",
   "execution_count": 48,
   "id": "371a8223-ad00-4eeb-9b7c-66b202084c84",
   "metadata": {},
   "outputs": [],
   "source": [
    "from PIL import Image\n",
    "from PIL.ExifTags import TAGS, GPSTAGS\n",
    "\n",
    "def get_geotagging(exif):\n",
    "    if not exif:\n",
    "        raise ValueError(\"No EXIF metadata found\")\n",
    "\n",
    "    geotagging = {}\n",
    "    for (idx, tag) in TAGS.items():\n",
    "        if tag == 'GPSInfo':\n",
    "            if idx not in exif:\n",
    "                raise ValueError(\"No EXIF geotagging found\")\n",
    "\n",
    "            for (key, val) in GPSTAGS.items():\n",
    "                if key in exif[idx]:\n",
    "                    geotagging[val] = exif[idx][key]\n",
    "\n",
    "    return geotagging\n",
    "\n",
    "def dms_to_decimal(degrees, minutes, seconds, direction):\n",
    "    \"\"\"Converts degrees, minutes, seconds to decimal degrees.\"\"\"\n",
    "    decimal_degrees = degrees + minutes/60 + seconds/3600\n",
    "    if direction in ['S', 'W']:\n",
    "        decimal_degrees *= -1\n",
    "    return decimal_degrees\n",
    "\n",
    "def get_coordinates(geotags):\n",
    "    lat = dms_to_decimal(*latitude_dms, latitude_ref)\n",
    "    lon = dms_to_decimal(*longitude_dms, longitude_ref)\n",
    "\n",
    "    return (float(round(lat, 5)), float(round(lon, 5)))\n",
    "\n",
    "pathways = []\n",
    "\n",
    "for name in glob.glob(\"F:\\\\pathways\\\\*\\\\*\\\\*\\\\*\", recursive = True):\n",
    "        \n",
    "    image = Image.open(name)\n",
    "    exif = image._getexif()\n",
    "    geotags = get_geotagging(exif)\n",
    "\n",
    "    latitude_ref = geotags['GPSLatitudeRef']\n",
    "    latitude_dms = geotags['GPSLatitude']\n",
    "    longitude_ref = geotags['GPSLongitudeRef']\n",
    "    longitude_dms = geotags['GPSLongitude']\n",
    "    GPSTimeStamp = geotags['GPSTimeStamp']\n",
    "    GPSDateStamp = geotags['GPSDateStamp']\n",
    "    \n",
    "    pathways.append([name.split(\"\\\\\"), get_coordinates(geotags), GPSTimeStamp, GPSDateStamp])"
   ]
  },
  {
   "cell_type": "code",
   "execution_count": 49,
   "id": "09d0528e-ace4-4bbe-8ae8-2b8bb46d63ca",
   "metadata": {},
   "outputs": [
    {
     "data": {
      "text/plain": [
       "[['F:', 'pathways', '0006NR23203', 'I', '0_0.237', '0.003_Roadway.jpg'],\n",
       " (39.68843, -110.85625),\n",
       " (18.0, 34.0, 38.571),\n",
       " '2024:08:06']"
      ]
     },
     "execution_count": 49,
     "metadata": {},
     "output_type": "execute_result"
    }
   ],
   "source": [
    "pathways[0]"
   ]
  },
  {
   "cell_type": "code",
   "execution_count": 65,
   "id": "51711ca0-98e2-4914-bcbd-819e2d962025",
   "metadata": {},
   "outputs": [],
   "source": [
    "pathways_image_df = pd.DataFrame(pathways, columns = ['identifier_info','coordinates','GPSTimeStamp', 'GPSDateStamp'])"
   ]
  },
  {
   "cell_type": "code",
   "execution_count": 66,
   "id": "80c9715c-85ed-44a8-a7bc-37be8a1cbb8d",
   "metadata": {},
   "outputs": [],
   "source": [
    "pathways_image_df[['drive','mode','route','type','mile_marker', 'image']] = pd.DataFrame(pathways_image_df['identifier_info'].tolist(), index= pathways_image_df.index)"
   ]
  },
  {
   "cell_type": "code",
   "execution_count": 67,
   "id": "41418435-4029-4013-a00c-b7a0fc800b7e",
   "metadata": {},
   "outputs": [
    {
     "data": {
      "text/html": [
       "<div>\n",
       "<style scoped>\n",
       "    .dataframe tbody tr th:only-of-type {\n",
       "        vertical-align: middle;\n",
       "    }\n",
       "\n",
       "    .dataframe tbody tr th {\n",
       "        vertical-align: top;\n",
       "    }\n",
       "\n",
       "    .dataframe thead th {\n",
       "        text-align: right;\n",
       "    }\n",
       "</style>\n",
       "<table border=\"1\" class=\"dataframe\">\n",
       "  <thead>\n",
       "    <tr style=\"text-align: right;\">\n",
       "      <th></th>\n",
       "      <th>identifier_info</th>\n",
       "      <th>coordinates</th>\n",
       "      <th>GPSTimeStamp</th>\n",
       "      <th>GPSDateStamp</th>\n",
       "      <th>drive</th>\n",
       "      <th>mode</th>\n",
       "      <th>route</th>\n",
       "      <th>type</th>\n",
       "      <th>mile_marker</th>\n",
       "      <th>image</th>\n",
       "    </tr>\n",
       "  </thead>\n",
       "  <tbody>\n",
       "    <tr>\n",
       "      <th>0</th>\n",
       "      <td>[F:, pathways, 0006NR23203, I, 0_0.237, 0.003_...</td>\n",
       "      <td>(39.68843, -110.85625)</td>\n",
       "      <td>(18.0, 34.0, 38.571)</td>\n",
       "      <td>2024:08:06</td>\n",
       "      <td>F:</td>\n",
       "      <td>pathways</td>\n",
       "      <td>0006NR23203</td>\n",
       "      <td>I</td>\n",
       "      <td>0_0.237</td>\n",
       "      <td>0.003_Roadway.jpg</td>\n",
       "    </tr>\n",
       "    <tr>\n",
       "      <th>1</th>\n",
       "      <td>[F:, pathways, 0006NR23203, I, 0_0.237, 0.009_...</td>\n",
       "      <td>(39.6885, -110.85625)</td>\n",
       "      <td>(18.0, 34.0, 38.971)</td>\n",
       "      <td>2024:08:06</td>\n",
       "      <td>F:</td>\n",
       "      <td>pathways</td>\n",
       "      <td>0006NR23203</td>\n",
       "      <td>I</td>\n",
       "      <td>0_0.237</td>\n",
       "      <td>0.009_Roadway.jpg</td>\n",
       "    </tr>\n",
       "    <tr>\n",
       "      <th>2</th>\n",
       "      <td>[F:, pathways, 0006NR23203, I, 0_0.237, 0.014_...</td>\n",
       "      <td>(39.68858, -110.85624)</td>\n",
       "      <td>(18.0, 34.0, 39.371)</td>\n",
       "      <td>2024:08:06</td>\n",
       "      <td>F:</td>\n",
       "      <td>pathways</td>\n",
       "      <td>0006NR23203</td>\n",
       "      <td>I</td>\n",
       "      <td>0_0.237</td>\n",
       "      <td>0.014_Roadway.jpg</td>\n",
       "    </tr>\n",
       "    <tr>\n",
       "      <th>3</th>\n",
       "      <td>[F:, pathways, 0006NR23203, I, 0_0.237, 0.019_...</td>\n",
       "      <td>(39.68865, -110.85624)</td>\n",
       "      <td>(18.0, 34.0, 39.771)</td>\n",
       "      <td>2024:08:06</td>\n",
       "      <td>F:</td>\n",
       "      <td>pathways</td>\n",
       "      <td>0006NR23203</td>\n",
       "      <td>I</td>\n",
       "      <td>0_0.237</td>\n",
       "      <td>0.019_Roadway.jpg</td>\n",
       "    </tr>\n",
       "    <tr>\n",
       "      <th>4</th>\n",
       "      <td>[F:, pathways, 0006NR23203, I, 0_0.237, 0.024_...</td>\n",
       "      <td>(39.68873, -110.85624)</td>\n",
       "      <td>(18.0, 34.0, 40.221)</td>\n",
       "      <td>2024:08:06</td>\n",
       "      <td>F:</td>\n",
       "      <td>pathways</td>\n",
       "      <td>0006NR23203</td>\n",
       "      <td>I</td>\n",
       "      <td>0_0.237</td>\n",
       "      <td>0.024_Roadway.jpg</td>\n",
       "    </tr>\n",
       "  </tbody>\n",
       "</table>\n",
       "</div>"
      ],
      "text/plain": [
       "                                     identifier_info             coordinates  \\\n",
       "0  [F:, pathways, 0006NR23203, I, 0_0.237, 0.003_...  (39.68843, -110.85625)   \n",
       "1  [F:, pathways, 0006NR23203, I, 0_0.237, 0.009_...   (39.6885, -110.85625)   \n",
       "2  [F:, pathways, 0006NR23203, I, 0_0.237, 0.014_...  (39.68858, -110.85624)   \n",
       "3  [F:, pathways, 0006NR23203, I, 0_0.237, 0.019_...  (39.68865, -110.85624)   \n",
       "4  [F:, pathways, 0006NR23203, I, 0_0.237, 0.024_...  (39.68873, -110.85624)   \n",
       "\n",
       "           GPSTimeStamp GPSDateStamp drive      mode        route type  \\\n",
       "0  (18.0, 34.0, 38.571)   2024:08:06    F:  pathways  0006NR23203    I   \n",
       "1  (18.0, 34.0, 38.971)   2024:08:06    F:  pathways  0006NR23203    I   \n",
       "2  (18.0, 34.0, 39.371)   2024:08:06    F:  pathways  0006NR23203    I   \n",
       "3  (18.0, 34.0, 39.771)   2024:08:06    F:  pathways  0006NR23203    I   \n",
       "4  (18.0, 34.0, 40.221)   2024:08:06    F:  pathways  0006NR23203    I   \n",
       "\n",
       "  mile_marker              image  \n",
       "0     0_0.237  0.003_Roadway.jpg  \n",
       "1     0_0.237  0.009_Roadway.jpg  \n",
       "2     0_0.237  0.014_Roadway.jpg  \n",
       "3     0_0.237  0.019_Roadway.jpg  \n",
       "4     0_0.237  0.024_Roadway.jpg  "
      ]
     },
     "execution_count": 67,
     "metadata": {},
     "output_type": "execute_result"
    }
   ],
   "source": [
    "pathways_image_df.head()"
   ]
  },
  {
   "cell_type": "code",
   "execution_count": 68,
   "id": "baecf21d-82bc-4993-a80d-f83a6c65841e",
   "metadata": {},
   "outputs": [],
   "source": [
    "pathways_image_df.drop(['identifier_info','drive'],axis = 1, inplace = True)"
   ]
  },
  {
   "cell_type": "code",
   "execution_count": 69,
   "id": "7a9a69d5-1487-4d30-98bd-e929d80f8783",
   "metadata": {},
   "outputs": [],
   "source": [
    "pathways_image_df.to_csv(\"pathways_data.csv\", index = False)"
   ]
  },
  {
   "cell_type": "code",
   "execution_count": 20,
   "id": "e05d7613-f3f1-4ce2-9b9b-022df805cf16",
   "metadata": {},
   "outputs": [],
   "source": [
    "pathways_data = pd.read_csv(\"pathways_data.csv\")"
   ]
  },
  {
   "cell_type": "code",
   "execution_count": 10,
   "id": "2a12a7da-9fd5-4f4b-beac-f0236eedd4d3",
   "metadata": {},
   "outputs": [
    {
     "data": {
      "text/plain": [
       "coordinates     object\n",
       "GPSTimeStamp    object\n",
       "GPSDateStamp    object\n",
       "mode            object\n",
       "route           object\n",
       "type            object\n",
       "mile_marker     object\n",
       "image           object\n",
       "dtype: object"
      ]
     },
     "execution_count": 10,
     "metadata": {},
     "output_type": "execute_result"
    }
   ],
   "source": [
    "pathways_data.dtypes"
   ]
  },
  {
   "cell_type": "code",
   "execution_count": 13,
   "id": "5586767b-ed69-44ac-ab64-aa8986c14e9b",
   "metadata": {},
   "outputs": [],
   "source": [
    "pathways_data.to_csv(\"pathways_data_updated.csv\", index = False)"
   ]
  },
  {
   "cell_type": "code",
   "execution_count": null,
   "id": "9a7fdb59-3879-42f6-9803-005c7e80109d",
   "metadata": {},
   "outputs": [],
   "source": [
    "import geopandas as gpd"
   ]
  },
  {
   "cell_type": "code",
   "execution_count": null,
   "id": "8979a483-0f09-4886-8a8f-a7aff222217e",
   "metadata": {},
   "outputs": [],
   "source": [
    "pathways_data[[\"latitude_name\", \"longitude_name\"]] = pathways_data[\"coordinates\"].str.strip('()').str.split(', ', expand=True)\n",
    "\n",
    "    # Convert to numeric (float)\n",
    "pathways_data[\"lat\"] = pd.to_numeric(pathways_data[\"latitude_name\"], errors='coerce')\n",
    "pathways_data[\"lon\"] = pd.to_numeric(pathways_data[\"longitude_name\"], errors='coerce')"
   ]
  },
  {
   "cell_type": "code",
   "execution_count": null,
   "id": "541d7d53-8d4e-48c7-83f5-f81f884b82eb",
   "metadata": {},
   "outputs": [],
   "source": [
    "gdf = gpd.GeoDataFrame(pathways_data, geometry = gpd.points_from_xy(pathways_data.lon, pathways_data.lat))"
   ]
  },
  {
   "cell_type": "code",
   "execution_count": null,
   "id": "3b58a09b-7a6b-4111-8c04-ac0d2907fca6",
   "metadata": {},
   "outputs": [],
   "source": [
    "gdf.drop([\"coordinates\", \"latitude_name\", \"longitude_name\"], axis = 1, inplace = True)"
   ]
  },
  {
   "cell_type": "code",
   "execution_count": null,
   "id": "f62313e9-b172-4d15-a90c-819e161799ba",
   "metadata": {},
   "outputs": [],
   "source": [
    "gdf[\"GPSDateStamp\"] = gdf[\"GPSDateStamp\"].str.replace(\":\", \"-\")"
   ]
  },
  {
   "cell_type": "code",
   "execution_count": null,
   "id": "75e709d1-a17b-4acf-9c23-b2d7c400df06",
   "metadata": {},
   "outputs": [],
   "source": [
    "gdf.to_csv(\"pathways_data_geometry.csv\", index = False)"
   ]
  },
  {
   "cell_type": "code",
   "execution_count": null,
   "id": "5f048c82",
   "metadata": {},
   "outputs": [],
   "source": [
    "from google.cloud import storage\n",
    "\n",
    "# Create a storage client\n",
    "storage_client = storage.Client()\n",
    "\n",
    "# Specify the bucket and file names\n",
    "bucket_name = 'udot-pathways-data'\n",
    "blob_name = 'pathways_data_geometry.csv'\n",
    "\n",
    "# Upload the file\n",
    "bucket = storage_client.get_bucket(bucket_name)\n",
    "blob = bucket.blob(blob_name)\n",
    "blob.upload_from_filename('pathways_data_geometry.csv')"
   ]
  },
  {
   "cell_type": "code",
   "execution_count": null,
   "id": "93f57fe1-da94-4a8b-ac90-9f1b9e154cab",
   "metadata": {},
   "outputs": [
    {
     "name": "stdout",
     "output_type": "stream",
     "text": [
      "Loaded 1945840 rows.\n"
     ]
    }
   ],
   "source": [
    "from google.cloud import bigquery\n",
    "\n",
    "# Construct a BigQuery client object.\n",
    "client = bigquery.Client()\n",
    "\n",
    "# TODO(developer): Set table_id to the ID of the table to create.\n",
    "table_id = \"ut-udot-adap-prod.pathways.image_metadata\"\n",
    "\n",
    "job_config = bigquery.LoadJobConfig(\n",
    "    schema=[\n",
    "        bigquery.SchemaField(\"GPSTimeStamp\", \"STRING\"),\n",
    "        bigquery.SchemaField(\"GPSDateStamp\", \"DATE\"),\n",
    "        bigquery.SchemaField(\"mode\", \"STRING\"),\n",
    "        bigquery.SchemaField(\"route\", \"STRING\"),\n",
    "        bigquery.SchemaField(\"type\", \"STRING\"),\n",
    "        bigquery.SchemaField(\"mile_marker\", \"STRING\"),\n",
    "        bigquery.SchemaField(\"image\", \"STRING\"),\n",
    "        bigquery.SchemaField(\"lat\", \"NUMERIC\"),\n",
    "        bigquery.SchemaField(\"lon\", \"NUMERIC\"),\n",
    "        bigquery.SchemaField(\"geometry\", \"GEOGRAPHY\"),\n",
    "    ],\n",
    "    skip_leading_rows=1,\n",
    "    # The source format defaults to CSV, so the line below is optional.\n",
    "    source_format=bigquery.SourceFormat.CSV,\n",
    "    write_disposition = \"WRITE_TRUNCATE\",\n",
    "    \n",
    ")\n",
    "uri = \"https://storage.cloud.google.com/udot-pathways-data/pathways_data_geometry.csv\"\n",
    "\n",
    "load_job = client.load_table_from_uri(\n",
    "    uri, table_id, job_config=job_config\n",
    ")  # Make an API request.\n",
    "\n",
    "load_job.result()  # Wait for the job to complete.\n",
    "\n",
    "destination_table = client.get_table(table_id)  # Make an API request.\n",
    "print(\"Loaded {} rows.\".format(destination_table.num_rows))"
   ]
  },
  {
   "cell_type": "code",
   "execution_count": null,
   "id": "8777890e-94a7-4c00-9f29-e04bf48b65bc",
   "metadata": {},
   "outputs": [],
   "source": []
  }
 ],
 "metadata": {
  "kernelspec": {
   "display_name": "Python 3 (ipykernel)",
   "language": "python",
   "name": "python3"
  },
  "language_info": {
   "codemirror_mode": {
    "name": "ipython",
    "version": 3
   },
   "file_extension": ".py",
   "mimetype": "text/x-python",
   "name": "python",
   "nbconvert_exporter": "python",
   "pygments_lexer": "ipython3",
   "version": "3.9.21"
  }
 },
 "nbformat": 4,
 "nbformat_minor": 5
}
